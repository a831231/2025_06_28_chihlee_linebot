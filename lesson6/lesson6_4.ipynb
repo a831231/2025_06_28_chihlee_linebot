{
 "cells": [
  {
   "cell_type": "code",
   "execution_count": 9,
   "id": "b3dfc658",
   "metadata": {},
   "outputs": [
    {
     "name": "stdout",
     "output_type": "stream",
     "text": [
      "=============AI回應==============\n"
     ]
    },
    {
     "data": {
      "text/markdown": [
       "天空之所以是藍的，主要是因為一種叫做**瑞利散射（Rayleigh scattering）**的物理現象。以下是更詳細的解釋：\n",
       "\n",
       "**1. 太陽光是多色光:**\n",
       "\n",
       "* 我們看到的太陽光看起來是白色的，但實際上是多種顏色混合在一起的，主要包括紅、橙、黃、綠、藍、靛和紫。這些顏色代表不同的波長。\n",
       "\n",
       "**2. 瑞利散射是什麼？**\n",
       "\n",
       "* 瑞利散射指的是，當光線遇到小小的粒子（就像空氣中的微小分子，例如氮氣、氧氣）時，光線會被分散或散射。\n",
       "* 瑞利散射是波長較短的光線更容易被散射的。波長較長的光線（藍色和紫色）更容易被散射，而波長較長的光線（紅色和黃色）則不容易被散射。\n",
       "\n",
       "**3. 為什麼天空是藍色？**\n",
       "\n",
       "* 太陽光進入地球的大氣層時，光線會與空氣中的氮氣和氧氣分子碰撞。\n",
       "* 由於藍色和紫色光波長短，更容易被散射，所以天空看起來是藍色的。 就像一個彩虹一樣，我們看到的是天空中藍光被散射的結果。\n",
       "\n",
       "**4. 為什麼不是紫色？**\n",
       "\n",
       "* 雖然紫色光更容易被散射，但：\n",
       "    * 太陽光中紫光量不多，地球的大氣層吸收了大部分紫光。\n",
       "    * 眼睛對紫色光的敏感度比對藍光更高。\n",
       "    * 此外，人類的眼睛對紫色光的感知能力比對藍光更為敏感。\n",
       "\n",
       "**總結來說，天空呈現藍色是因為太陽光進入大氣層時，藍光被散射，所以我們看到的是天空中的散射光。**\n",
       "\n",
       "**需要注意的是：**\n",
       "\n",
       "*  日出和日落時，太陽光需要穿過更厚的大氣層，藍光更容易被散射，因此我們看到的顏色會變得更紅或黃。\n",
       "*  由於大氣中的其他物質，天空的顏色也會受到影響，例如灰塵或污染物。\n",
       "\n",
       "希望這個解釋能讓你理解天空為什麼是藍色的！\n"
      ],
      "text/plain": [
       "<IPython.core.display.Markdown object>"
      ]
     },
     "metadata": {},
     "output_type": "display_data"
    }
   ],
   "source": [
    "import requests\n",
    "##import pprint\n",
    "from pprint import pprint\n",
    "from IPython.display import Markdown, display\n",
    "\n",
    "def generate_with_ollama(prompt:str)->None:   #promt參數\n",
    "    url= \"http://localhost:11434/api/generate\"\n",
    "    payload= {\n",
    "        \"model\":\"gemma3:1b\",\n",
    "        \"prompt\":prompt,\n",
    "        \"stream\":False\n",
    "    }\n",
    "    response = requests.post(url,json=payload)\n",
    "    result = response.json()\n",
    "    #print(type(result))\n",
    "    #pprint(result)\n",
    "    print(\"=============AI回應==============\")\n",
    "    display(Markdown(result['response']))\n",
    "    \n",
    "    ##print(result['response'])\n",
    "\n",
    "generate_with_ollama(\"天空為什麼是藍的\")\n"
   ]
  }
 ],
 "metadata": {
  "kernelspec": {
   "display_name": "line_bot",
   "language": "python",
   "name": "python3"
  },
  "language_info": {
   "codemirror_mode": {
    "name": "ipython",
    "version": 3
   },
   "file_extension": ".py",
   "mimetype": "text/x-python",
   "name": "python",
   "nbconvert_exporter": "python",
   "pygments_lexer": "ipython3",
   "version": "3.12.11"
  }
 },
 "nbformat": 4,
 "nbformat_minor": 5
}
