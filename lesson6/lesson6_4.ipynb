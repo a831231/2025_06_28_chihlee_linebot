{
 "cells": [
  {
   "cell_type": "code",
   "execution_count": 1,
   "id": "b3dfc658",
   "metadata": {},
   "outputs": [
    {
     "name": "stdout",
     "output_type": "stream",
     "text": [
      "=============AI回應==============\n"
     ]
    },
    {
     "data": {
      "text/markdown": [
       "天空是藍的，主要原因和過程是這樣的：\n",
       "\n",
       "**1. 太陽光與空氣中的粒子：**\n",
       "\n",
       "*   太陽光看起來是白色的，但其實是由各種顏色的光組成。\n",
       "*   當太陽光進入地球的大氣層時，它會與空氣中的微小粒子（主要是氮氣和氧氣）發生碰撞。\n",
       "\n",
       "**2. 光的散射 (Rayleigh Scattering):**\n",
       "\n",
       "*   這是解釋天空為什麼是藍色的關鍵。 \n",
       "*   空氣中的粒子會產生一種叫做“散射”的現象。\n",
       "*   當光線遇到這些微小的粒子時，光線會發生偏轉，也就是散射。\n",
       "*   不同顏色的光具有不同的大小。藍色的光和紅色的光被散射的程度更大，所以我們看到的天空看起來是藍色的。\n",
       "\n",
       "**3. 散射的程度與顏色：**\n",
       "\n",
       "*   這個散射程度與光的波長有關。波長越短的顏色（藍色和紫色）會更容易被散射，而波長越長（紅色和橙色）則不容易被散射。\n",
       "*   因此，藍色光被散射得更多，所以我們看到的天空是藍色的。\n",
       "\n",
       "**4. 紫色光的稀少：**\n",
       "\n",
       "*   雖然藍色散射更厲害，但太陽光中也含有紫色的光。 \n",
       "*   由於藍色的光被散射得更多，所以我們實際上看到的天空是藍色的，而不是紫色的。 紫色光在地球的大氣層中被散射得非常少。\n",
       "\n",
       "**總結來說，天空是藍色的，是因為太陽光與空氣中的粒子發生了散射，藍色的光更容易被散射，使得我們看到的天空看起來是藍色的。**\n",
       "\n",
       "**還有一點需要注意：**\n",
       "\n",
       "*   **日出和日落時，太陽光穿過的大氣層更長，藍光被散射得更多，所以我們看到的天空呈現紅色或橙色。**\n",
       "*   **不同地區和季節，由於大氣條件不同，天空的顏色也會有所變化。**\n",
       "\n",
       "希望這個解釋對你有幫助！\n"
      ],
      "text/plain": [
       "<IPython.core.display.Markdown object>"
      ]
     },
     "metadata": {},
     "output_type": "display_data"
    }
   ],
   "source": [
    "import requests\n",
    "##import pprint\n",
    "from pprint import pprint\n",
    "from IPython.display import Markdown, display\n",
    "\n",
    "def generate_with_ollama(prompt:str)->None:   #promt參數\n",
    "    url= \"http://localhost:11434/api/generate\"\n",
    "    payload= {\n",
    "        \"model\":\"gemma3:1b\",\n",
    "        \"prompt\":prompt,\n",
    "        \"stream\":False\n",
    "    }\n",
    "    response = requests.post(url,json=payload)\n",
    "    result = response.json()\n",
    "    #print(type(result))\n",
    "    #pprint(result)\n",
    "    print(\"=============AI回應==============\")\n",
    "    display(Markdown(result['response']))\n",
    "    \n",
    "    ##print(result['response'])\n",
    "\n",
    "generate_with_ollama(\"天空為什麼是藍的\")\n"
   ]
  }
 ],
 "metadata": {
  "kernelspec": {
   "display_name": "line_bot",
   "language": "python",
   "name": "python3"
  },
  "language_info": {
   "codemirror_mode": {
    "name": "ipython",
    "version": 3
   },
   "file_extension": ".py",
   "mimetype": "text/x-python",
   "name": "python",
   "nbconvert_exporter": "python",
   "pygments_lexer": "ipython3",
   "version": "3.12.11"
  }
 },
 "nbformat": 4,
 "nbformat_minor": 5
}
