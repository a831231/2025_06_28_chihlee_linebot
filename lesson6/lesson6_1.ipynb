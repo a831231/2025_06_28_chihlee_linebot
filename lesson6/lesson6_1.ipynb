{
 "cells": [
  {
   "cell_type": "markdown",
   "id": "a0c79892",
   "metadata": {},
   "source": [
    "### 變數,list,dict\n",
    "### 判斷,迴圈\n",
    "### function\n",
    "### 內建的function,內建module,外部的module\n",
    "### 什麼是實體"
   ]
  },
  {
   "cell_type": "code",
   "execution_count": 8,
   "id": "8d5611d3",
   "metadata": {},
   "outputs": [
    {
     "data": {
      "text/plain": [
       "('Alice', 25, 1.68)"
      ]
     },
     "execution_count": 8,
     "metadata": {},
     "output_type": "execute_result"
    }
   ],
   "source": [
    "# 變數 (variable)\n",
    "name = \"Alice\"       # 字串變數\n",
    "age = 25             # 整數變數\n",
    "height = 1.68        # 浮點數變數\n",
    "\n",
    "name, age, height  #這是tuple\n",
    "\n",
    "\n"
   ]
  },
  {
   "cell_type": "code",
   "execution_count": null,
   "id": "1fb3681f",
   "metadata": {},
   "outputs": [
    {
     "name": "stdout",
     "output_type": "stream",
     "text": [
      "<class 'list'>\n",
      "水果清單: ['蘋果', '香蕉', '櫻桃']\n",
      "第一個水果 蘋果\n",
      "反轉後的水果清單: ['櫻桃', '香蕉', '蘋果']\n"
     ]
    }
   ],
   "source": [
    "# 串列 (list)\n",
    "fruits = [\"蘋果\", \"香蕉\", \"櫻桃\"]  # 宣告一個串列\n",
    "print(type(fruits))\n",
    "print(\"水果清單:\", fruits)        # 輸出第一個元素: 蘋果\n",
    "print(\"第一個水果\", fruits[0])\n",
    "fruits.reverse()  # 反轉串列\n",
    "print(\"反轉後的水果清單:\", fruits)"
   ]
  }
 ],
 "metadata": {
  "kernelspec": {
   "display_name": "line_bot",
   "language": "python",
   "name": "python3"
  },
  "language_info": {
   "codemirror_mode": {
    "name": "ipython",
    "version": 3
   },
   "file_extension": ".py",
   "mimetype": "text/x-python",
   "name": "python",
   "nbconvert_exporter": "python",
   "pygments_lexer": "ipython3",
   "version": "3.12.11"
  }
 },
 "nbformat": 4,
 "nbformat_minor": 5
}
