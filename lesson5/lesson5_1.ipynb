{
 "cells": [
  {
   "cell_type": "code",
   "execution_count": 1,
   "id": "48c6ee2c",
   "metadata": {},
   "outputs": [
    {
     "name": "stdout",
     "output_type": "stream",
     "text": [
      "💬 AI 回應：\n",
      "{'model': 'gemma3:1b', 'created_at': '2025-08-02T01:41:00.265317375Z', 'response': '{ \\n    \"我是Google DeepMind的助手，一個大型語言模型。我是一個開放權重的模型，由Google DeepMind開發。\":\\n\\n \\n   \"我是一個 AI 語言模型，經過大量文本資料的訓練，可以進行各種任務，例如： 寫作、翻譯、摘要、回答問題等等。我沒有自己的想法或感受，我的目標是提供資訊和協助使用者。\"\\n \\n  \\n   \\n  \\n   \\n   \\n  \\n  \\n  \\n  \\n  \\n  \\n  \\n  \\n  \\n', 'done': False}\n",
      "{ \n",
      "    \"我是Google DeepMind的助手，一個大型語言模型。我是一個開放權重的模型，由Google DeepMind開發。\":\n",
      "\n",
      " \n",
      "   \"我是一個 AI 語言模型，經過大量文本資料的訓練，可以進行各種任務，例如： 寫作、翻譯、摘要、回答問題等等。我沒有自己的想法或感受，我的目標是提供資訊和協助使用者。\"\n",
      " \n",
      "  \n",
      "   \n",
      "  \n",
      "   \n",
      "   \n",
      "  \n",
      "  \n",
      "  \n",
      "  \n",
      "  \n",
      "  \n",
      "  \n",
      "  \n",
      "  \n",
      "\n"
     ]
    }
   ],
   "source": [
    "import requests\n",
    "\n",
    "def chat_with_ollama(prompt: str):\n",
    "    url = \"http://localhost:11434/api/generate\"\n",
    "    payload = {\n",
    "        \"model\": \"gemma3:1b\",\n",
    "        \"prompt\": prompt,\n",
    "        \"stream\": False,\n",
    "        \"options\": { #參考說明1\n",
    "            \"temperature\": 0.7,\n",
    "            \"top_p\": 0.9,\n",
    "            \"top_k\": 50,\n",
    "        },\n",
    "        \"max_tokens\": 100,\n",
    "        \"format\": \"json\",\n",
    "    }\n",
    "\n",
    "    response = requests.post(url, json=payload)\n",
    "    result = response.json()\n",
    "    print(\"💬 AI 回應：\")\n",
    "    # Print the whole result for debugging\n",
    "    print(result)\n",
    "    # Try to print the 'response' key if it exists, otherwise print possible keys\n",
    "    if \"response\" in result:\n",
    "        print(result[\"response\"])\n",
    "    elif \"message\" in result:\n",
    "        print(result[\"message\"])\n",
    "    elif \"content\" in result:\n",
    "        print(result[\"content\"])\n",
    "    else:\n",
    "        print(\"No expected key found in response. Available keys:\", result.keys())\n",
    "\n",
    "#範例輸入\n",
    "chat_with_ollama(\"請問你是誰？\")  # Example input"
   ]
  }
 ],
 "metadata": {
  "kernelspec": {
   "display_name": "line_bot",
   "language": "python",
   "name": "python3"
  },
  "language_info": {
   "codemirror_mode": {
    "name": "ipython",
    "version": 3
   },
   "file_extension": ".py",
   "mimetype": "text/x-python",
   "name": "python",
   "nbconvert_exporter": "python",
   "pygments_lexer": "ipython3",
   "version": "3.12.11"
  }
 },
 "nbformat": 4,
 "nbformat_minor": 5
}
