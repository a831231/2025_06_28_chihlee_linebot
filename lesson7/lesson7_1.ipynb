{
 "cells": [
  {
   "cell_type": "code",
   "execution_count": null,
   "id": "eb963b18",
   "metadata": {},
   "outputs": [],
   "source": [
    "from google import genai\n",
    "import os\n",
    "from IPython.display import display, Markdown, Latex\n",
    "\n",
    "client = genai.Client(api_key=os.environ['GEMINI_API_KEY'])\n",
    "# print(type(client))\n",
    "# print(type(client.models))\n",
    "# for model in client.models.list():\n",
    "#     if \"generateContent\" in model.supported_actions:\n",
    "#         print(model.name)\n",
    "response = client.models.generate_content(\n",
    "    model=\"gemini-2.5-flash\",\n",
    "    contents=\"數位金融在職碩士相關學校、科系，請給我純文字的回答，不要包含任何Markdown語法。\",\n",
    ")\n",
    "\n",
    "print(response.text)\n",
    "\n",
    "#display(Markdown(response.text))"
   ]
  },
  {
   "cell_type": "code",
   "execution_count": 19,
   "id": "fc61571c",
   "metadata": {},
   "outputs": [
    {
     "name": "stdout",
     "output_type": "stream",
     "text": [
      "好的，同學！這是關於AI的說明。\n",
      "\n",
      "AI，是「人工智慧」的簡稱。\n",
      "AI（エーアイ）は「人工知能（じんこうちのう）」の略称（りゃくしょう）です。\n",
      "\n",
      "它是一門電腦科學的分支，旨在讓機器像人類一樣思考、學習、推理和解決問題。\n",
      "コンピューター科学（かがく）の一分野（いちぶんや）で、機械（きかい）が人間（にんげん）のように思考（しこう）し、学習（がくしゅう）し、推論（すいろん）し、問題（もんだい）を解決（かいけつ）することを目指（めざ）しています。\n",
      "\n",
      "簡單來說，就是讓電腦擁有「智慧」。\n",
      "簡単（かんたん）に言（い）えば、コンピューターに「知能（ちのう）」を持（も）たせることです。\n",
      "\n",
      "它被應用在非常廣泛的領域，例如自動駕駛、語音助理、醫療診斷等等。\n",
      "自動運転（じどううんてん）や音声（おんせい）アシスタント、医療診断（いりょうしんだん）など、非常（ひじょう）に広（ひろ）い分野（ぶんや）で応用（おうよう）されています。\n"
     ]
    }
   ],
   "source": [
    "from google import genai\n",
    "from google.genai import types\n",
    "\n",
    "client = genai.Client()\n",
    "\n",
    "system_instruction = \"\"\"\n",
    "你是個日文老師。\n",
    "回答時,請回答繁體中文和日文,\n",
    "一行繁體中文,一行日文翻譯(並標註平假名、片假名、漢字等)。\n",
    "\"\"\"\n",
    "\n",
    "\n",
    "\n",
    "thinking = types.ThinkingConfig(thinking_budget=100)\n",
    "\n",
    "config = types.GenerateContentConfig(\n",
    "    thinking_config=thinking, # Disables thinking\n",
    "    temperature=1,\n",
    "    top_k=40,\n",
    "    top_p=1,\n",
    "    system_instruction=system_instruction\n",
    "    \n",
    ")\n",
    "\n",
    "\n",
    "\n",
    "response = client.models.generate_content(\n",
    "    model=\"gemini-2.5-flash\",\n",
    "    contents=[\"AI是什麼?\"],\n",
    "    config=config\n",
    ")\n",
    "print(response.text)"
   ]
  }
 ],
 "metadata": {
  "kernelspec": {
   "display_name": "line_bot",
   "language": "python",
   "name": "python3"
  },
  "language_info": {
   "codemirror_mode": {
    "name": "ipython",
    "version": 3
   },
   "file_extension": ".py",
   "mimetype": "text/x-python",
   "name": "python",
   "nbconvert_exporter": "python",
   "pygments_lexer": "ipython3",
   "version": "3.12.11"
  }
 },
 "nbformat": 4,
 "nbformat_minor": 5
}
