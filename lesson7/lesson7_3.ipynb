{
 "cells": [
  {
   "cell_type": "code",
   "execution_count": null,
   "id": "33c2822a",
   "metadata": {},
   "outputs": [],
   "source": [
    "from google import genai\n",
    "from IPython.display import display, Markdown, Latex\n",
    "\n",
    "client = genai.Client()\n",
    "response = client.models.generate_content_stream(\n",
    "    model=\"gemini-2.5-flash\",\n",
    "    contents=[\"數位金融轉職需要的技能與工具(請使用繁體中文回答)?\"],\n",
    "    config=genai.types.GenerateContentConfig(\n",
    "        temperature=1,\n",
    "        top_k=40,\n",
    "        top_p=1\n",
    "    )\n",
    ")\n",
    "\n",
    "\n",
    "for chunk in response:\n",
    "    print(chunk.text)"
   ]
  },
  {
   "cell_type": "code",
   "execution_count": 2,
   "id": "6a198d1e",
   "metadata": {},
   "outputs": [
    {
     "name": "stdout",
     "output_type": "stream",
     "text": [
      "5\n",
      "9\n",
      "10\n"
     ]
    }
   ],
   "source": [
    "for item in [5, 9, 10]:\n",
    "    print(item)\n"
   ]
  },
  {
   "cell_type": "code",
   "execution_count": null,
   "id": "c472a82e",
   "metadata": {},
   "outputs": [],
   "source": [
    "import PIL.Image\n",
    "from google import genai\n",
    "from IPython.display import display, Markdown\n",
    "\n",
    "client = genai.Client()\n",
    "image = PIL.Image.open('許光漢.jpg')\n",
    "response = client.models.generate_content(\n",
    "    model=\"gemini-2.5-flash\",\n",
    "    contents=[image, \"請告訴我這是誰,還有關於它的一些資訊\"]\n",
    ")\n",
    "\n",
    "display(Markdown(response.text))"
   ]
  },
  {
   "cell_type": "code",
   "execution_count": 8,
   "id": "0646495f",
   "metadata": {},
   "outputs": [
    {
     "name": "stdout",
     "output_type": "stream",
     "text": [
      "噢，那太棒了！家裡一定很熱鬧吧。\n",
      "\n",
      "牠們叫什麼名字呢？或者牠們是什麼品種的呢？根據你之前說的，你有2隻狗在房子裡。\n",
      "\n",
      "每隻狗通常有4隻爪子。\n",
      "\n",
      "所以，如果只算你的兩隻狗狗的話：\n",
      "**2 隻狗 x 4 隻爪子/狗 = 8 隻爪子。**\n",
      "\n",
      "你家裡總共有8隻爪子呢！=========chat內的記憶=========\n",
      "\n",
      "role - user: 我有2隻狗在我的房子內\n",
      "role - model: 噢，那太棒了！家裡一定很熱鬧吧。\n",
      "\n",
      "牠們叫什麼名字呢？或者牠們是什麼品種的呢？\n",
      "role - user: 在我家裏有多少爪子?\n",
      "role - model: 根據你之前說的，你有2隻狗在房子裡。\n",
      "\n",
      "每隻狗通常有4隻爪子。\n",
      "\n",
      "所以，如果只算你的兩隻狗狗的話：\n",
      "**2 隻狗 x 4 隻爪子/\n",
      "role - model: 狗 = 8 隻爪子。**\n",
      "\n",
      "你家裡總共有8隻爪子呢！\n"
     ]
    }
   ],
   "source": [
    "from google import genai\n",
    "\n",
    "client = genai.Client()\n",
    "chat = client.chats.create(model=\"gemini-2.5-flash\")\n",
    "\n",
    "response = chat.send_message_stream(\"我有2隻狗在我的房子內\")\n",
    "for chunk in response:\n",
    "    print(chunk.text, end=\"\")\n",
    "\n",
    "response = chat.send_message_stream('在我家裏有多少爪子?')\n",
    "for chunk in response:\n",
    "    print(chunk.text, end=\"\")\n",
    "\n",
    "print(\"=========chat內的記憶=========\\n\")\n",
    "for message in chat.get_history():\n",
    "    print(f'role - {message.role}', end=\": \")\n",
    "    print(message.parts[0].text)\n"
   ]
  }
 ],
 "metadata": {
  "kernelspec": {
   "display_name": "line_bot",
   "language": "python",
   "name": "python3"
  },
  "language_info": {
   "codemirror_mode": {
    "name": "ipython",
    "version": 3
   },
   "file_extension": ".py",
   "mimetype": "text/x-python",
   "name": "python",
   "nbconvert_exporter": "python",
   "pygments_lexer": "ipython3",
   "version": "3.12.11"
  }
 },
 "nbformat": 4,
 "nbformat_minor": 5
}
