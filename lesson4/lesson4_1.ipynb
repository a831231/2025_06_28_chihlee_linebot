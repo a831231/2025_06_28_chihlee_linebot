{
 "cells": [
  {
   "cell_type": "code",
   "execution_count": 14,
   "id": "0fa4bbb4",
   "metadata": {},
   "outputs": [
    {
     "name": "stdout",
     "output_type": "stream",
     "text": [
      "1,5.0,hello,True.\n"
     ]
    }
   ],
   "source": [
    "print(1,5.0,\"hello\",True,sep=\",\", end=\".\\n\")"
   ]
  },
  {
   "cell_type": "code",
   "execution_count": null,
   "id": "3fafdeac",
   "metadata": {},
   "outputs": [
    {
     "name": "stdout",
     "output_type": "stream",
     "text": [
      "1,5.0,hello,True\n"
     ]
    }
   ],
   "source": [
    "print(1,5.0,\"hello\",True,sep=\",\")"
   ]
  },
  {
   "cell_type": "code",
   "execution_count": 4,
   "id": "1fc4cb06",
   "metadata": {},
   "outputs": [
    {
     "name": "stdout",
     "output_type": "stream",
     "text": [
      "1 5.0 hello True\n"
     ]
    }
   ],
   "source": [
    "print(1, 5.0, \"hello\", True)"
   ]
  },
  {
   "cell_type": "markdown",
   "id": "3400742e",
   "metadata": {},
   "source": [
    "### python 儲存資料\n",
    "- 變數\n",
    "- list\n",
    "- dict\n"
   ]
  },
  {
   "cell_type": "code",
   "execution_count": 19,
   "id": "3380574f",
   "metadata": {},
   "outputs": [
    {
     "name": "stdout",
     "output_type": "stream",
     "text": [
      "建立變數\n",
      "變數內容:Python\n",
      "變數類型:* *<class 'str'>\n",
      "變數長度:~~6\n"
     ]
    }
   ],
   "source": [
    "print(\"建立變數\")\n",
    "name = \"Python\"\n",
    "print(\"變數內容:\", name, sep=\"\")\n",
    "print(\"變數類型:\", type(name), sep=\"* *\")\n",
    "print(\"變數長度:\", len(name), sep=\"~~\")\n"
   ]
  }
 ],
 "metadata": {
  "kernelspec": {
   "display_name": "line_bot",
   "language": "python",
   "name": "python3"
  },
  "language_info": {
   "codemirror_mode": {
    "name": "ipython",
    "version": 3
   },
   "file_extension": ".py",
   "mimetype": "text/x-python",
   "name": "python",
   "nbconvert_exporter": "python",
   "pygments_lexer": "ipython3",
   "version": "3.12.11"
  }
 },
 "nbformat": 4,
 "nbformat_minor": 5
}
